{
 "cells": [
  {
   "cell_type": "markdown",
   "id": "e1e37a60",
   "metadata": {},
   "source": [
    "Ditionary : UNORDERED DATA STRUCTURE\n",
    "\n",
    "- create dictionnary key / value\n",
    "- never the same key\n",
    "- any assocition type (string with int or ...)\n",
    "- Nested : dictionnary with dictionnary inside\n",
    "- dict with numpy table as values (neuron network)\n",
    "\n",
    "METHODES\n",
    "- values()\n",
    "- keys ()\n",
    "- len (dic)\n",
    "- add a new key/value\n",
    "\n",
    "- get #chercher une valeur ou une cle qui existe ou pas\n",
    "- fromkeys #create a dict from list\n",
    "- pop #extract element from a dict, remove it from dictionnary\n",
    "\n",
    "LOOP\n",
    "- for \n",
    "- for ... dict.items()"
   ]
  },
  {
   "cell_type": "markdown",
   "id": "8b147fc6",
   "metadata": {},
   "source": [
    "### Ditionary : UNORDERED DATA STRUCTURE"
   ]
  },
  {
   "cell_type": "code",
   "execution_count": 2,
   "id": "0aa9f386",
   "metadata": {},
   "outputs": [],
   "source": [
    "client = {'name':'jack', 'sex':'male', 'age':20}\n",
    "translation = {'dog':'chien', 'cat':'chat', 'mouse':'souris'}"
   ]
  },
  {
   "cell_type": "code",
   "execution_count": 3,
   "id": "4aeaa08a",
   "metadata": {},
   "outputs": [],
   "source": [
    "#Nester \n",
    "dicto = {'dict1':client,\n",
    "        'dict2':translation}"
   ]
  },
  {
   "cell_type": "code",
   "execution_count": 4,
   "id": "1ec905f3",
   "metadata": {},
   "outputs": [
    {
     "data": {
      "text/plain": [
       "{'dict1': {'name': 'jack', 'sex': 'male', 'age': 20},\n",
       " 'dict2': {'dog': 'chien', 'cat': 'chat', 'mouse': 'souris'}}"
      ]
     },
     "execution_count": 4,
     "metadata": {},
     "output_type": "execute_result"
    }
   ],
   "source": [
    "dicto"
   ]
  },
  {
   "cell_type": "code",
   "execution_count": 5,
   "id": "1159c331",
   "metadata": {},
   "outputs": [],
   "source": [
    "import numpy as np \n"
   ]
  },
  {
   "cell_type": "code",
   "execution_count": 33,
   "id": "b60d2fba",
   "metadata": {},
   "outputs": [],
   "source": [
    "dic_np = {'wo': np.random.randn(5,3),\n",
    "         'fo': np.random.randn(5,3)}"
   ]
  },
  {
   "cell_type": "code",
   "execution_count": 11,
   "id": "934ffd50",
   "metadata": {},
   "outputs": [
    {
     "data": {
      "text/plain": [
       "{'wo': array([[ 1.31000862,  0.68321153, -0.01775536],\n",
       "        [ 0.38366916, -0.52108152,  0.46272489],\n",
       "        [-0.29137883, -0.69574675,  0.49477792],\n",
       "        [-0.9200604 , -0.58279947, -0.30190957],\n",
       "        [ 0.88485625,  0.58529797, -0.41016249]]),\n",
       " 'fo': array([[ 0.75481619,  0.83672537, -0.21200578],\n",
       "        [ 0.87467172,  0.96311604,  2.2236786 ],\n",
       "        [-0.48431791,  0.17976423, -0.04852567],\n",
       "        [-0.7994106 ,  0.78202366,  1.01418998],\n",
       "        [-0.28008206, -0.59394461, -1.12705841]])}"
      ]
     },
     "execution_count": 11,
     "metadata": {},
     "output_type": "execute_result"
    }
   ],
   "source": [
    "#display\n",
    "dic_np"
   ]
  },
  {
   "cell_type": "markdown",
   "id": "02320f6c",
   "metadata": {},
   "source": [
    "## Methods"
   ]
  },
  {
   "cell_type": "code",
   "execution_count": 28,
   "id": "b59052cd",
   "metadata": {},
   "outputs": [
    {
     "name": "stdout",
     "output_type": "stream",
     "text": [
      "dict_values(['male', 20, 'biologie'])\n",
      "dict_keys(['sex', 'age', 'field'])\n",
      "lenght ==>  3\n",
      "{'sex': 'male', 'age': 20, 'field': 'biologie'}\n",
      "no in dictionary\n",
      "{'apple': 'default_value', 'orange': 'default_value', 'kiwi': 'default_value'}\n",
      "1\n"
     ]
    }
   ],
   "source": [
    "#values()\n",
    "print(client.values())\n",
    "#keys ()\n",
    "print(client.keys())\n",
    "#len (dic)\n",
    "print('lenght ==> ',len(client))\n",
    "#add a new key/value\n",
    "client['field'] = 'biologie'\n",
    "print(client)\n",
    "#get #chercher une valeur ou une cle qui existe ou pas\n",
    "print(client.get('dd', 'no in dictionary'))\n",
    "#fromkeys #create a dict from list\n",
    "list_1 = ['apple', 'orange', 'kiwi']\n",
    "print(client.fromkeys(list_1, 'default_value'))\n",
    "#pop #extract element from a dict, remove it from dictionnary\n",
    "print(client.pop('name', 1))"
   ]
  },
  {
   "cell_type": "markdown",
   "id": "6e3d5688",
   "metadata": {},
   "source": [
    "### For loop"
   ]
  },
  {
   "cell_type": "code",
   "execution_count": 29,
   "id": "621c3c3a",
   "metadata": {},
   "outputs": [
    {
     "name": "stdout",
     "output_type": "stream",
     "text": [
      "sex\n",
      "age\n",
      "field\n"
     ]
    }
   ],
   "source": [
    "for i in client:\n",
    "    print(i)"
   ]
  },
  {
   "cell_type": "code",
   "execution_count": 30,
   "id": "90bc38f8",
   "metadata": {},
   "outputs": [
    {
     "name": "stdout",
     "output_type": "stream",
     "text": [
      "male\n",
      "20\n",
      "biologie\n"
     ]
    }
   ],
   "source": [
    "for i in client.values():\n",
    "    print(i)"
   ]
  },
  {
   "cell_type": "code",
   "execution_count": 32,
   "id": "e94d01c8",
   "metadata": {},
   "outputs": [
    {
     "name": "stdout",
     "output_type": "stream",
     "text": [
      "sex : male\n",
      "age : 20\n",
      "field : biologie\n"
     ]
    }
   ],
   "source": [
    "for i, j in client.items():\n",
    "    print(i,':',j)"
   ]
  },
  {
   "cell_type": "code",
   "execution_count": null,
   "id": "c83ea910",
   "metadata": {},
   "outputs": [],
   "source": []
  }
 ],
 "metadata": {
  "kernelspec": {
   "display_name": "Python 3",
   "language": "python",
   "name": "python3"
  },
  "language_info": {
   "codemirror_mode": {
    "name": "ipython",
    "version": 3
   },
   "file_extension": ".py",
   "mimetype": "text/x-python",
   "name": "python",
   "nbconvert_exporter": "python",
   "pygments_lexer": "ipython3",
   "version": "3.8.8"
  }
 },
 "nbformat": 4,
 "nbformat_minor": 5
}
