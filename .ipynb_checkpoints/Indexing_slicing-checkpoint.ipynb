{
 "cells": [
  {
   "cell_type": "markdown",
   "id": "841fd8e9",
   "metadata": {},
   "source": [
    "- indexing #access to one value\n",
    "- slicing #access to several values\n",
    "\n",
    "subseting\n",
    "- create a new table (subset) from our matrice\n",
    "- transformate the subset\n",
    "\n",
    "- zeros and print the center 4*4\n",
    "- transform into 1\n",
    "\n",
    "- slicing avec un pas 5*5\n",
    "\n",
    "Boolean Indexing\n",
    "- tableau randint \n",
    "- create a mask\n",
    "\n",
    "- A[condition] = resultat\n",
    "\n",
    "- filtrer les donnees "
   ]
  },
  {
   "cell_type": "code",
   "execution_count": 9,
   "id": "4c9fb698",
   "metadata": {},
   "outputs": [],
   "source": [
    "import numpy as np"
   ]
  },
  {
   "cell_type": "code",
   "execution_count": 13,
   "id": "64712cc0",
   "metadata": {
    "scrolled": true
   },
   "outputs": [
    {
     "data": {
      "text/plain": [
       "array([[0.25056288, 0.01157554, 0.99972077, 0.86642307],\n",
       "       [0.4795507 , 0.36909349, 0.81482974, 0.34267429],\n",
       "       [0.58280813, 0.32438435, 0.04584294, 0.63312607]])"
      ]
     },
     "execution_count": 13,
     "metadata": {},
     "output_type": "execute_result"
    }
   ],
   "source": [
    "A = np.random.rand(3,4)\n",
    "A"
   ]
  },
  {
   "cell_type": "code",
   "execution_count": 15,
   "id": "f87b9451",
   "metadata": {},
   "outputs": [
    {
     "data": {
      "text/plain": [
       "(3, 4)"
      ]
     },
     "execution_count": 15,
     "metadata": {},
     "output_type": "execute_result"
    }
   ],
   "source": [
    "A.shape"
   ]
  },
  {
   "cell_type": "code",
   "execution_count": 14,
   "id": "6e626be9",
   "metadata": {},
   "outputs": [
    {
     "data": {
      "text/plain": [
       "array([0.25056288, 0.01157554, 0.99972077, 0.86642307])"
      ]
     },
     "execution_count": 14,
     "metadata": {},
     "output_type": "execute_result"
    }
   ],
   "source": [
    "#first row : indexing\n",
    "A[0]"
   ]
  },
  {
   "cell_type": "code",
   "execution_count": 18,
   "id": "0afe389c",
   "metadata": {},
   "outputs": [
    {
     "data": {
      "text/plain": [
       "array([0.25056288, 0.4795507 , 0.58280813])"
      ]
     },
     "execution_count": 18,
     "metadata": {},
     "output_type": "execute_result"
    }
   ],
   "source": [
    "#first column : slicing\n",
    "A[:, 0]"
   ]
  },
  {
   "cell_type": "code",
   "execution_count": 21,
   "id": "33feefb3",
   "metadata": {},
   "outputs": [
    {
     "data": {
      "text/plain": [
       "array([[0.36909349, 0.81482974],\n",
       "       [0.32438435, 0.04584294]])"
      ]
     },
     "execution_count": 21,
     "metadata": {},
     "output_type": "execute_result"
    }
   ],
   "source": [
    "#subset\n",
    "sub = A[1:, 1:3]\n",
    "sub"
   ]
  },
  {
   "cell_type": "code",
   "execution_count": 23,
   "id": "298e5dd4",
   "metadata": {},
   "outputs": [
    {
     "data": {
      "text/plain": [
       "array([[0.25056288, 0.01157554, 0.99972077, 0.86642307],\n",
       "       [0.4795507 , 1.        , 1.        , 0.34267429],\n",
       "       [0.58280813, 1.        , 1.        , 0.63312607]])"
      ]
     },
     "execution_count": 23,
     "metadata": {},
     "output_type": "execute_result"
    }
   ],
   "source": [
    "#transform subset\n",
    "A[1:, 1:3] = 1\n",
    "A"
   ]
  },
  {
   "cell_type": "code",
   "execution_count": 24,
   "id": "7ed21c04",
   "metadata": {},
   "outputs": [
    {
     "data": {
      "text/plain": [
       "array([[0., 0., 0., 0.],\n",
       "       [0., 0., 0., 0.],\n",
       "       [0., 0., 0., 0.],\n",
       "       [0., 0., 0., 0.]])"
      ]
     },
     "execution_count": 24,
     "metadata": {},
     "output_type": "execute_result"
    }
   ],
   "source": [
    "B = np.zeros((4,4))\n",
    "B"
   ]
  },
  {
   "cell_type": "code",
   "execution_count": 25,
   "id": "f506eb78",
   "metadata": {},
   "outputs": [
    {
     "data": {
      "text/plain": [
       "array([[0., 0.],\n",
       "       [0., 0.]])"
      ]
     },
     "execution_count": 25,
     "metadata": {},
     "output_type": "execute_result"
    }
   ],
   "source": [
    "B[1:3, 1:3]"
   ]
  },
  {
   "cell_type": "code",
   "execution_count": 26,
   "id": "a6e78186",
   "metadata": {},
   "outputs": [
    {
     "data": {
      "text/plain": [
       "array([[0., 0., 0., 0.],\n",
       "       [0., 1., 1., 0.],\n",
       "       [0., 1., 1., 0.],\n",
       "       [0., 0., 0., 0.]])"
      ]
     },
     "execution_count": 26,
     "metadata": {},
     "output_type": "execute_result"
    }
   ],
   "source": [
    "B[1:3, 1:3] = 1\n",
    "B"
   ]
  },
  {
   "cell_type": "code",
   "execution_count": 27,
   "id": "d81855bd",
   "metadata": {},
   "outputs": [
    {
     "data": {
      "text/plain": [
       "array([[1., 1., 1., 1., 1.],\n",
       "       [1., 1., 1., 1., 1.],\n",
       "       [1., 1., 1., 1., 1.],\n",
       "       [1., 1., 1., 1., 1.],\n",
       "       [1., 1., 1., 1., 1.]])"
      ]
     },
     "execution_count": 27,
     "metadata": {},
     "output_type": "execute_result"
    }
   ],
   "source": [
    "C = np.ones((5,5))\n",
    "C"
   ]
  },
  {
   "cell_type": "code",
   "execution_count": 28,
   "id": "2a3a57c8",
   "metadata": {},
   "outputs": [
    {
     "data": {
      "text/plain": [
       "array([[55.,  1., 55.,  1., 55.],\n",
       "       [ 1.,  1.,  1.,  1.,  1.],\n",
       "       [55.,  1., 55.,  1., 55.],\n",
       "       [ 1.,  1.,  1.,  1.,  1.],\n",
       "       [55.,  1., 55.,  1., 55.]])"
      ]
     },
     "execution_count": 28,
     "metadata": {},
     "output_type": "execute_result"
    }
   ],
   "source": [
    "#slicing with one step\n",
    "C[::2, ::2] = 55\n",
    "C"
   ]
  },
  {
   "cell_type": "code",
   "execution_count": 31,
   "id": "7c598a73",
   "metadata": {},
   "outputs": [],
   "source": [
    "#from 1 to 100 with shape 10*10 \n",
    "D = np.random.randint(1,100, [10,10])"
   ]
  },
  {
   "cell_type": "code",
   "execution_count": 32,
   "id": "0e19e437",
   "metadata": {},
   "outputs": [
    {
     "data": {
      "text/plain": [
       "array([[95, 31, 86, 49, 57, 97, 62, 90, 31, 77],\n",
       "       [13, 98, 43, 19, 43, 74, 79, 21,  7, 75],\n",
       "       [53, 95, 22, 89, 53, 99,  1, 20, 30, 96],\n",
       "       [ 5, 54, 90, 70, 92, 56, 13, 99, 37, 19],\n",
       "       [95, 31, 71, 28, 94, 15, 10, 89, 92, 94],\n",
       "       [51, 56, 43, 12, 46, 11, 11, 44,  8, 54],\n",
       "       [19, 73, 59, 30, 99, 47, 45, 97, 64, 88],\n",
       "       [25, 79, 42,  5, 27, 98, 41, 30, 48, 40],\n",
       "       [72, 11, 36, 13, 49, 47, 41, 54, 42, 13],\n",
       "       [39, 90, 78, 88, 52, 30, 19, 26, 61, 61]])"
      ]
     },
     "execution_count": 32,
     "metadata": {},
     "output_type": "execute_result"
    }
   ],
   "source": [
    "D"
   ]
  },
  {
   "cell_type": "code",
   "execution_count": 33,
   "id": "d487ce81",
   "metadata": {},
   "outputs": [
    {
     "data": {
      "text/plain": [
       "array([[False,  True, False,  True, False, False, False, False,  True,\n",
       "        False],\n",
       "       [ True, False,  True,  True,  True, False, False,  True,  True,\n",
       "        False],\n",
       "       [False, False,  True, False, False, False,  True,  True,  True,\n",
       "        False],\n",
       "       [ True, False, False, False, False, False,  True, False,  True,\n",
       "         True],\n",
       "       [False,  True, False,  True, False,  True,  True, False, False,\n",
       "        False],\n",
       "       [False, False,  True,  True,  True,  True,  True,  True,  True,\n",
       "        False],\n",
       "       [ True, False, False,  True, False,  True,  True, False, False,\n",
       "        False],\n",
       "       [ True, False,  True,  True,  True, False,  True,  True,  True,\n",
       "         True],\n",
       "       [False,  True,  True,  True,  True,  True,  True, False,  True,\n",
       "         True],\n",
       "       [ True, False, False, False, False,  True,  True,  True, False,\n",
       "        False]])"
      ]
     },
     "execution_count": 33,
     "metadata": {},
     "output_type": "execute_result"
    }
   ],
   "source": [
    "#creat a mask\n",
    "D<50"
   ]
  },
  {
   "cell_type": "code",
   "execution_count": 35,
   "id": "88372673",
   "metadata": {},
   "outputs": [],
   "source": [
    "D[D<50] = 0"
   ]
  },
  {
   "cell_type": "code",
   "execution_count": 36,
   "id": "bd8e67aa",
   "metadata": {},
   "outputs": [
    {
     "data": {
      "text/plain": [
       "array([[95,  0, 86,  0, 57, 97, 62, 90,  0, 77],\n",
       "       [ 0, 98,  0,  0,  0, 74, 79,  0,  0, 75],\n",
       "       [53, 95,  0, 89, 53, 99,  0,  0,  0, 96],\n",
       "       [ 0, 54, 90, 70, 92, 56,  0, 99,  0,  0],\n",
       "       [95,  0, 71,  0, 94,  0,  0, 89, 92, 94],\n",
       "       [51, 56,  0,  0,  0,  0,  0,  0,  0, 54],\n",
       "       [ 0, 73, 59,  0, 99,  0,  0, 97, 64, 88],\n",
       "       [ 0, 79,  0,  0,  0, 98,  0,  0,  0,  0],\n",
       "       [72,  0,  0,  0,  0,  0,  0, 54,  0,  0],\n",
       "       [ 0, 90, 78, 88, 52,  0,  0,  0, 61, 61]])"
      ]
     },
     "execution_count": 36,
     "metadata": {},
     "output_type": "execute_result"
    }
   ],
   "source": [
    "D"
   ]
  },
  {
   "cell_type": "code",
   "execution_count": null,
   "id": "1bb290da",
   "metadata": {},
   "outputs": [],
   "source": []
  }
 ],
 "metadata": {
  "kernelspec": {
   "display_name": "Python 3",
   "language": "python",
   "name": "python3"
  },
  "language_info": {
   "codemirror_mode": {
    "name": "ipython",
    "version": 3
   },
   "file_extension": ".py",
   "mimetype": "text/x-python",
   "name": "python",
   "nbconvert_exporter": "python",
   "pygments_lexer": "ipython3",
   "version": "3.8.8"
  }
 },
 "nbformat": 4,
 "nbformat_minor": 5
}
