{
 "cells": [
  {
   "cell_type": "markdown",
   "id": "ba487445",
   "metadata": {},
   "source": [
    "________________________________________MODULE NUMPY________________________\n",
    "\n",
    "- import numpy as np\n",
    "\n",
    "- ndArray : is a object of numpy so it contains attributs and methods\n",
    "\n",
    "- in data science we use espacialy array of two dimentions ==> 2ndArray\n",
    "\n",
    "1- Constructors\n",
    "- array(object)\n",
    "- zeros(shape)\n",
    "- ones //\n",
    "- full(shape, number)\n",
    "- eye(shape) identity matrix\n",
    "\n",
    "- linspace(debut, fin, howmuch)\n",
    "- arange(//, //, step)\n",
    "\n",
    "2- Module random : \n",
    "- random\n",
    "- randn(shape) normalize\n",
    "- seed(0) fixer\n",
    "\n",
    "3- Attributs\n",
    "- shape / size (dimentions product)\n",
    "- shape return tuple, so we can access to row and columns number by indexing\n",
    "\n",
    "4- dtype\n",
    "- signifie data type\n",
    "- define bits number \n",
    "    - np.linspace(///, dtype=np.int16)\n",
    " \n",
    "5- Methods\n",
    "- hstack(tab1, tab2) ===> horizomntal concat\n",
    "- vstack /// ==> vertical concat\n",
    "- concatenate(tab1, tab2, axis=0/1)\n",
    "\n",
    "- reshape (old and tables must have the same size)\n",
    "    -tab.reshape((new-shape))\n",
    "    \n",
    "- squeeze ==> faire disparetre toute les dimentions ou on a simplement un 1\n",
    "- ravel ==> passe a la dimention 1 (liste)"
   ]
  },
  {
   "cell_type": "code",
   "execution_count": 4,
   "id": "bed97f88",
   "metadata": {},
   "outputs": [
    {
     "data": {
      "text/plain": [
       "module"
      ]
     },
     "execution_count": 4,
     "metadata": {},
     "output_type": "execute_result"
    }
   ],
   "source": [
    "import numpy as np\n",
    "type(np)"
   ]
  },
  {
   "cell_type": "markdown",
   "id": "3bd0811d",
   "metadata": {},
   "source": [
    "CONSTRUCTORS\n",
    "\n",
    "array(object)\n",
    "\n",
    "zeros(shape)\n",
    "\n",
    "ones //\n",
    "\n",
    "full(shape, number)\n",
    "\n",
    "eye(shape) identity matrix\n",
    "\n",
    "linspace(debut, fin, howmuch)\n",
    "\n",
    "arange(//, //, step)"
   ]
  },
  {
   "cell_type": "code",
   "execution_count": 7,
   "id": "2bdafc3d",
   "metadata": {},
   "outputs": [
    {
     "name": "stdout",
     "output_type": "stream",
     "text": [
      "[1 2 3 4]\n",
      "1 \t (4,)\n"
     ]
    }
   ],
   "source": [
    "A = np.array([1,2,3,4])\n",
    "print(A)\n",
    "print(A.ndim,'\\t', A.shape)"
   ]
  },
  {
   "cell_type": "code",
   "execution_count": 8,
   "id": "37993c0d",
   "metadata": {},
   "outputs": [
    {
     "name": "stdout",
     "output_type": "stream",
     "text": [
      "[[0. 0. 0. 0. 0.]\n",
      " [0. 0. 0. 0. 0.]\n",
      " [0. 0. 0. 0. 0.]\n",
      " [0. 0. 0. 0. 0.]\n",
      " [0. 0. 0. 0. 0.]]\n"
     ]
    }
   ],
   "source": [
    "zero = np.zeros((5,5))\n",
    "print(zero)"
   ]
  },
  {
   "cell_type": "code",
   "execution_count": 12,
   "id": "2636b847",
   "metadata": {},
   "outputs": [
    {
     "name": "stdout",
     "output_type": "stream",
     "text": [
      "[[1. 1. 1. 1. 1.]\n",
      " [1. 1. 1. 1. 1.]\n",
      " [1. 1. 1. 1. 1.]\n",
      " [1. 1. 1. 1. 1.]]\n"
     ]
    }
   ],
   "source": [
    "one = np.ones((4,5))\n",
    "print(one)"
   ]
  },
  {
   "cell_type": "code",
   "execution_count": 11,
   "id": "975bc53a",
   "metadata": {},
   "outputs": [
    {
     "name": "stdout",
     "output_type": "stream",
     "text": [
      "[[9 9 9 9]\n",
      " [9 9 9 9]\n",
      " [9 9 9 9]]\n"
     ]
    }
   ],
   "source": [
    "full = np.full((3,4), 9)\n",
    "print(full)"
   ]
  },
  {
   "cell_type": "code",
   "execution_count": 17,
   "id": "8fead11f",
   "metadata": {},
   "outputs": [
    {
     "name": "stdout",
     "output_type": "stream",
     "text": [
      "[[1. 0. 0. 0. 0.]\n",
      " [0. 1. 0. 0. 0.]\n",
      " [0. 0. 1. 0. 0.]]\n"
     ]
    }
   ],
   "source": [
    "ident = np.eye(3,5)\n",
    "print(ident)"
   ]
  },
  {
   "cell_type": "code",
   "execution_count": 19,
   "id": "4649038e",
   "metadata": {},
   "outputs": [
    {
     "name": "stdout",
     "output_type": "stream",
     "text": [
      "[ 1.          1.64285714  2.28571429  2.92857143  3.57142857  4.21428571\n",
      "  4.85714286  5.5         6.14285714  6.78571429  7.42857143  8.07142857\n",
      "  8.71428571  9.35714286 10.        ]\n"
     ]
    }
   ],
   "source": [
    "B = np.linspace(1, 10, 15)\n",
    "print(B)"
   ]
  },
  {
   "cell_type": "code",
   "execution_count": 20,
   "id": "644b9b7c",
   "metadata": {},
   "outputs": [
    {
     "name": "stdout",
     "output_type": "stream",
     "text": [
      "[1.  1.5 2.  2.5 3.  3.5 4.  4.5 5.  5.5 6.  6.5 7.  7.5 8.  8.5 9.  9.5]\n"
     ]
    }
   ],
   "source": [
    "C = np.arange(1,10, 0.5)\n",
    "print(C)"
   ]
  },
  {
   "cell_type": "code",
   "execution_count": 28,
   "id": "9e02d665",
   "metadata": {},
   "outputs": [
    {
     "name": "stdout",
     "output_type": "stream",
     "text": [
      "(18,)\n",
      "18\n",
      "18\n",
      "5\n"
     ]
    }
   ],
   "source": [
    "#shape / size (le produit des dimentions)\n",
    "print(C.shape) #return a tuple\n",
    "print(C.size) # product od dimentions\n",
    "\n",
    "print(C.shape[0]) #ligne number\n",
    "print(ident.shape[1]) #columns number"
   ]
  },
  {
   "cell_type": "markdown",
   "id": "5d632896",
   "metadata": {},
   "source": [
    "dtype\n",
    "- means data type\n",
    "- define bits number\n",
    "- np.linspace(///, dtype=np.int16)"
   ]
  },
  {
   "cell_type": "code",
   "execution_count": 34,
   "id": "373ba86a",
   "metadata": {},
   "outputs": [
    {
     "data": {
      "text/plain": [
       "array([ 2,  4,  6,  8, 10], dtype=int16)"
      ]
     },
     "execution_count": 34,
     "metadata": {},
     "output_type": "execute_result"
    }
   ],
   "source": [
    "tab = np.linspace(2,10,5, dtype = np.int16)\n",
    "tab"
   ]
  },
  {
   "cell_type": "code",
   "execution_count": 37,
   "id": "c8e6f842",
   "metadata": {},
   "outputs": [
    {
     "data": {
      "text/plain": [
       "array([2.       , 2.2      , 2.4      , 2.6000001, 2.8000002, 3.0000002,\n",
       "       3.2000003, 3.4000003, 3.6000004, 3.8000004, 4.0000005, 4.200001 ,\n",
       "       4.4000006, 4.6000004, 4.8000007, 5.000001 , 5.200001 , 5.4000006,\n",
       "       5.600001 , 5.800001 , 6.000001 , 6.200001 , 6.400001 , 6.6000013,\n",
       "       6.800001 , 7.000001 , 7.2000012, 7.4000015, 7.6000013, 7.800001 ,\n",
       "       8.000002 , 8.200002 , 8.400002 , 8.600001 , 8.800001 , 9.000002 ,\n",
       "       9.200002 , 9.400002 , 9.600002 , 9.800002 ], dtype=float32)"
      ]
     },
     "execution_count": 37,
     "metadata": {},
     "output_type": "execute_result"
    }
   ],
   "source": [
    "#32 bits for each numbers\n",
    "tab = np.arange(2,10,0.2, dtype = np.float32)\n",
    "tab"
   ]
  },
  {
   "cell_type": "markdown",
   "id": "71e50132",
   "metadata": {},
   "source": [
    "module random de numpy\n",
    "\n",
    "- random\n",
    "- randn(shape) normalize\n",
    "- seed(0) fixer"
   ]
  },
  {
   "cell_type": "code",
   "execution_count": 38,
   "id": "9ccf2614",
   "metadata": {},
   "outputs": [
    {
     "name": "stdout",
     "output_type": "stream",
     "text": [
      "[[0.39277711 0.13028174 0.39316383 0.6152829 ]\n",
      " [0.58674861 0.57169481 0.74300911 0.3900951 ]]\n"
     ]
    }
   ],
   "source": [
    "a = np.random.random((2,4))\n",
    "print(a)"
   ]
  },
  {
   "cell_type": "code",
   "execution_count": 40,
   "id": "b8da3821",
   "metadata": {},
   "outputs": [
    {
     "name": "stdout",
     "output_type": "stream",
     "text": [
      "[[ 0.39628781 -0.70764935 -2.39305913  0.38369701]\n",
      " [ 2.22693812  0.43013668 -0.7106592  -0.57624817]]\n"
     ]
    }
   ],
   "source": [
    "# distribute as normal law\n",
    "a = np.random.randn(2,4)\n",
    "print(a)"
   ]
  },
  {
   "cell_type": "code",
   "execution_count": 62,
   "id": "fa0e6e29",
   "metadata": {},
   "outputs": [
    {
     "data": {
      "image/png": "[encoded data removed]",
      "text/plain": [
       "<Figure size 432x288 with 1 Axes>"
      ]
     },
     "metadata": {
      "needs_background": "light"
     },
     "output_type": "display_data"
    }
   ],
   "source": [
    "# plot normal curve\n",
    "import matplotlib.pyplot as plt\n",
    "import scipy.stats  as stats\n",
    "x = np.linspace(-3, 3, 100) # min , max , 100 points\n",
    "y = stats.norm.pdf(x, 0, 1) # X centrer sur 0 avec un ecart type de 1\n",
    "plt.plot(x,y)\n",
    "plt.show()"
   ]
  },
  {
   "cell_type": "code",
   "execution_count": 67,
   "id": "dd5b5310",
   "metadata": {},
   "outputs": [
    {
     "name": "stdout",
     "output_type": "stream",
     "text": [
      "[[0.5488135  0.71518937 0.60276338]\n",
      " [0.54488318 0.4236548  0.64589411]]\n"
     ]
    }
   ],
   "source": [
    "np.random.seed(0) #fixe le generateur random\n",
    "r = np.random.random((2,3))\n",
    "print(r)"
   ]
  },
  {
   "cell_type": "markdown",
   "id": "9db17118",
   "metadata": {},
   "source": [
    "METHODS\n",
    "- hstack(tab1, tab2) ===> horizomntal concat\n",
    "\n",
    "- vstack /// ==> vertical concat\n",
    "\n",
    "- concatenate(tab1, tab2, axis=0/1)\n",
    "\n",
    "- reshape (old and tables must have the same size) -tab.reshape((new-shape))\n",
    "\n",
    "- squeeze ==> faire disparetre toute les dimentions ou on a simplement un 1\n",
    "\n",
    "- ravel ==> passe a la dimention 1 (liste)"
   ]
  },
  {
   "cell_type": "code",
   "execution_count": 74,
   "id": "19cf8eae",
   "metadata": {},
   "outputs": [
    {
     "data": {
      "text/plain": [
       "array([[0., 0., 0., 1., 1., 1., 1.],\n",
       "       [0., 0., 0., 1., 1., 1., 1.]])"
      ]
     },
     "execution_count": 74,
     "metadata": {},
     "output_type": "execute_result"
    }
   ],
   "source": [
    "# MUST have the same numbers of row\n",
    "A = np.zeros((2,3))\n",
    "B = np.ones((2,4))\n",
    "np.hstack((A,B))"
   ]
  },
  {
   "cell_type": "code",
   "execution_count": 77,
   "id": "641df819",
   "metadata": {},
   "outputs": [
    {
     "data": {
      "text/plain": [
       "array([[0., 0., 0.],\n",
       "       [0., 0., 0.],\n",
       "       [1., 1., 1.],\n",
       "       [1., 1., 1.],\n",
       "       [1., 1., 1.],\n",
       "       [1., 1., 1.],\n",
       "       [1., 1., 1.]])"
      ]
     },
     "execution_count": 77,
     "metadata": {},
     "output_type": "execute_result"
    }
   ],
   "source": [
    "# MUST have the same numbers of columns\n",
    "A = np.zeros((2,3))\n",
    "B = np.ones((5,3))\n",
    "np.vstack((A,B))"
   ]
  },
  {
   "cell_type": "code",
   "execution_count": 79,
   "id": "9ced5759",
   "metadata": {},
   "outputs": [
    {
     "data": {
      "text/plain": [
       "array([[0., 0., 0.],\n",
       "       [0., 0., 0.],\n",
       "       [1., 1., 1.],\n",
       "       [1., 1., 1.],\n",
       "       [1., 1., 1.],\n",
       "       [1., 1., 1.],\n",
       "       [1., 1., 1.]])"
      ]
     },
     "execution_count": 79,
     "metadata": {},
     "output_type": "execute_result"
    }
   ],
   "source": [
    "np.concatenate((A,B), axis=0)"
   ]
  },
  {
   "cell_type": "code",
   "execution_count": 81,
   "id": "5e45e06a",
   "metadata": {},
   "outputs": [
    {
     "data": {
      "text/plain": [
       "(2, 3)"
      ]
     },
     "execution_count": 81,
     "metadata": {},
     "output_type": "execute_result"
    }
   ],
   "source": [
    "A = np.full((2,3), 4)\n",
    "A.shape"
   ]
  },
  {
   "cell_type": "code",
   "execution_count": 86,
   "id": "a58071d3",
   "metadata": {},
   "outputs": [
    {
     "name": "stdout",
     "output_type": "stream",
     "text": [
      "[[4]\n",
      " [4]\n",
      " [4]\n",
      " [4]\n",
      " [4]\n",
      " [4]]\n",
      "################\n",
      "[[4 4]\n",
      " [4 4]\n",
      " [4 4]]\n"
     ]
    }
   ],
   "source": [
    "print(A.reshape((6,1)))\n",
    "print('################')\n",
    "print(A.reshape((3,2)))"
   ]
  },
  {
   "cell_type": "code",
   "execution_count": 92,
   "id": "f154480d",
   "metadata": {},
   "outputs": [
    {
     "name": "stdout",
     "output_type": "stream",
     "text": [
      "(4, 1)\n",
      "(4,)\n"
     ]
    }
   ],
   "source": [
    "# squeeze ==> remove 1 in shape\n",
    "g = np.zeros((4,1))\n",
    "print(g.shape)\n",
    "\n",
    "g = g.squeeze()\n",
    "print(g.shape)"
   ]
  },
  {
   "cell_type": "code",
   "execution_count": 95,
   "id": "4238e198",
   "metadata": {},
   "outputs": [
    {
     "name": "stdout",
     "output_type": "stream",
     "text": [
      "[[1. 1. 1. 1. 1.]\n",
      " [1. 1. 1. 1. 1.]\n",
      " [1. 1. 1. 1. 1.]\n",
      " [1. 1. 1. 1. 1.]]\n",
      "################\n",
      "[1. 1. 1. 1. 1. 1. 1. 1. 1. 1. 1. 1. 1. 1. 1. 1. 1. 1. 1. 1.]\n"
     ]
    }
   ],
   "source": [
    "#ravel ==> transforme une matrice en une liste\n",
    "d = np.ones((4,5))\n",
    "print(d)\n",
    "print('################')\n",
    "d = d.ravel()\n",
    "print(d)"
   ]
  },
  {
   "cell_type": "code",
   "execution_count": null,
   "id": "d51c7b85",
   "metadata": {},
   "outputs": [],
   "source": []
  }
 ],
 "metadata": {
  "kernelspec": {
   "display_name": "Python 3",
   "language": "python",
   "name": "python3"
  },
  "language_info": {
   "codemirror_mode": {
    "name": "ipython",
    "version": 3
   },
   "file_extension": ".py",
   "mimetype": "text/x-python",
   "name": "python",
   "nbconvert_exporter": "python",
   "pygments_lexer": "ipython3",
   "version": "3.8.8"
  }
 },
 "nbformat": 4,
 "nbformat_minor": 5
}
